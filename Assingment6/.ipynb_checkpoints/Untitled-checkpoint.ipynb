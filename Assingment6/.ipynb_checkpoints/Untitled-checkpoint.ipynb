{
 "cells": [
  {
   "cell_type": "code",
   "execution_count": 26,
   "metadata": {},
   "outputs": [
    {
     "name": "stdout",
     "output_type": "stream",
     "text": [
      "Engine started\n",
      "Corrola\n",
      "Toyota\n",
      "2015\n",
      "White\n",
      "Auto\n"
     ]
    }
   ],
   "source": [
    "class Car:\n",
    "\n",
    "    # 5 attributes\n",
    "    def __init__(self, name, make, model, color, transmission):\n",
    "     self.name = name\n",
    "     self.make = make\n",
    "     self.model = model\n",
    "     self.color = color\n",
    "     self.transmission = transmission\n",
    "    \n",
    "\n",
    "    # 3 methods\n",
    "    def start(self):\n",
    "        #car_a.__init__(name, make, modal, color, transmission)\n",
    "        #car_a.__init__(\"Corrola\", \"Toyota\", 2015, \"White\", \"Auto\")\n",
    "        print (\"Engine started\")\n",
    "         #print(name, make, modal, color, transmission)\n",
    "\n",
    "    def stop(self):\n",
    "        print (\"Engine switched off\")\n",
    "        \n",
    "    def park(self):\n",
    "        print (\"Car is parked\")    \n",
    "        \n",
    "car_a = Car(\"Corrola\", \"Toyota\", 2015, \"White\", \"Auto\")\n",
    "car_a.start()\n",
    "print(car_a.name,)\n",
    "print(car_a.make)\n",
    "print(car_a.model)\n",
    "print(car_a.color)\n",
    "print(car_a.transmission)\n",
    "        \n",
    "        "
   ]
  },
  {
   "cell_type": "code",
   "execution_count": 27,
   "metadata": {},
   "outputs": [
    {
     "name": "stdout",
     "output_type": "stream",
     "text": [
      "Toyota\n",
      "Engine started\n",
      "2015\n",
      "Engine switched off\n",
      "white\n"
     ]
    }
   ],
   "source": [
    "class Car:\n",
    "\n",
    "    #class attributes\n",
    "    name = \"Corrola\"\n",
    "    make = \"Toyota\"\n",
    "    model = 2015\n",
    "    color = \"white\"\n",
    "    Tranmission = \"Auto\"\n",
    "\n",
    "    #class methods\n",
    "    def start(self):\n",
    "        print (\"Engine started\")\n",
    "\n",
    "    def stop(self):\n",
    "        print (\"Engine switched off\")\n",
    "        \n",
    "car_a = Car()\n",
    "car_b = Car()\n",
    "car_c = Car()\n",
    "\n",
    "print(car_a.make)\n",
    "\n",
    "car_b.start()\n",
    "\n",
    "print(car_b.model)\n",
    "\n",
    "car_b.stop()\n",
    "\n",
    "print(car_c.color)"
   ]
  },
  {
   "cell_type": "code",
   "execution_count": 13,
   "metadata": {},
   "outputs": [
    {
     "name": "stdout",
     "output_type": "stream",
     "text": [
      "1\n",
      "2\n",
      "3\n"
     ]
    }
   ],
   "source": [
    "class Car:\n",
    "\n",
    "    # class attributes\n",
    "    car_count = 0\n",
    "\n",
    "    #class methods\n",
    "    def __init__(self):\n",
    "        Car.car_count +=1\n",
    "        print(Car.car_count)\n",
    "        \n",
    "car_a = Car()\n",
    "car_b = Car()\n",
    "car_c = Car()       "
   ]
  },
  {
   "cell_type": "code",
   "execution_count": null,
   "metadata": {},
   "outputs": [],
   "source": []
  }
 ],
 "metadata": {
  "kernelspec": {
   "display_name": "Python 3",
   "language": "python",
   "name": "python3"
  },
  "language_info": {
   "codemirror_mode": {
    "name": "ipython",
    "version": 3
   },
   "file_extension": ".py",
   "mimetype": "text/x-python",
   "name": "python",
   "nbconvert_exporter": "python",
   "pygments_lexer": "ipython3",
   "version": "3.7.4"
  }
 },
 "nbformat": 4,
 "nbformat_minor": 2
}
