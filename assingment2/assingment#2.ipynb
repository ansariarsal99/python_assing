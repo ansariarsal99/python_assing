{
 "cells": [
  {
   "cell_type": "code",
   "execution_count": 1,
   "metadata": {},
   "outputs": [
    {
     "name": "stdout",
     "output_type": "stream",
     "text": [
      "Enter your name : Arsalan\n",
      "Enter your Marks in English : 65\n",
      "Enter your Marks in Urdu : 65\n",
      "Enter your Marks in Biology : 65\n",
      "Enter your Marks in Computer : 65\n",
      "Enter your Marks in Pak Studies : 65\n",
      "Enter your Marks in Physics : 56\n",
      "Enter your Marks in Maths : 65\n",
      "==================================================\n",
      "Combined Marksheet of : Arsalan\n",
      "==================================================\n",
      "Your Total marks out of 700 in 7 Subject is : 446\n",
      "==================================================\n",
      "Your Obtainded Percentage in Subject is 63.714285714285715 %\n",
      "==================================================\n",
      "your Grade is B\n",
      "==================================================\n"
     ]
    }
   ],
   "source": [
    "name = input(\"Enter your name : \")\n",
    "First_sub = int(input(\"Enter your Marks in English : \"))\n",
    "Second_sub = int(input(\"Enter your Marks in Urdu : \"))\n",
    "Third_sub = int(input(\"Enter your Marks in Biology : \"))\n",
    "Fourth_sub = int(input(\"Enter your Marks in Computer : \"))\n",
    "Fifth_sub = int(input(\"Enter your Marks in Pak Studies : \"))\n",
    "Sixth_sub = int(input(\"Enter your Marks in Physics : \"))\n",
    "Seventh_sub = int(input(\"Enter your Marks in Maths : \"))\n",
    "\n",
    "All_sub = [First_sub, Second_sub, Third_sub, Fourth_sub, Fifth_sub, Sixth_sub, Seventh_sub]\n",
    "marks = sum(All_sub)\n",
    "total = 700\n",
    "per = (marks/total)*100\n",
    "\n",
    "print(\"==================================================\")\n",
    "print(\"Combined Marksheet of :\", name)\n",
    "print(\"==================================================\")\n",
    "print(\"Your Total marks out of 700 in 7 Subject is :\", marks)\n",
    "print(\"==================================================\")\n",
    "print(\"Your Obtainded Percentage in Subject is\", per, \"%\")\n",
    "print(\"==================================================\")\n",
    "if   per >= 100 and per <= 80:\n",
    "     print(\"your Grade is A+\")\n",
    "elif per >= 70 and per <= 79:\n",
    "     print(\"your Grade is A\")\n",
    "elif per >= 60 and per <= 69:\n",
    "     print(\"your Grade is B\")\n",
    "elif per >= 50 and per <= 59:\n",
    "     print(\"your Grade is C\")\n",
    "elif per >= 40 and per <= 49:\n",
    "     print(\"your Grade is D\")\n",
    "elif per >= 39 and per <= 33:\n",
    "     print(\"your Grade is E\")\n",
    "elif per < 33 :\n",
    "     print(\"your Grade is F\")\n",
    "print(\"==================================================\")"
   ]
  },
  {
   "cell_type": "code",
   "execution_count": 3,
   "metadata": {
    "scrolled": true
   },
   "outputs": [
    {
     "name": "stdout",
     "output_type": "stream",
     "text": [
      "Enter any number :5\n",
      "5  NUMBER IS ODD \n"
     ]
    }
   ],
   "source": [
    "numb = int(input(\"Enter any number :\" ))\n",
    "if numb % 2 == 0:\n",
    "    print(numb, \" NUMBER IS EVEN \")\n",
    "elif numb % 2 == 1:\n",
    "    print(numb, \" NUMBER IS ODD \")"
   ]
  },
  {
   "cell_type": "code",
   "execution_count": 20,
   "metadata": {},
   "outputs": [
    {
     "name": "stdout",
     "output_type": "stream",
     "text": [
      "Length of list is : 6\n"
     ]
    }
   ],
   "source": [
    "abc = ['1', '2', '3', '4', '6', '9']\n",
    "bcd = len(abc)\n",
    "print(\"Length of list is :\", bcd)"
   ]
  },
  {
   "cell_type": "code",
   "execution_count": 22,
   "metadata": {},
   "outputs": [
    {
     "name": "stdout",
     "output_type": "stream",
     "text": [
      "Sum of list is : 25\n"
     ]
    }
   ],
   "source": [
    "abc = [1, 2, 3, 4, 6, 9]\n",
    "bcd = sum(abc)\n",
    "print(\"Sum of list is :\", bcd)\n"
   ]
  },
  {
   "cell_type": "code",
   "execution_count": 25,
   "metadata": {},
   "outputs": [
    {
     "name": "stdout",
     "output_type": "stream",
     "text": [
      "Largest Number of list is : 12\n"
     ]
    }
   ],
   "source": [
    "abc = [1, 2, 3, 4, 6, 12, 7, 9 ]\n",
    "abc.sort()\n",
    "print(\"Largest Number of list is :\", abc[-1])"
   ]
  },
  {
   "cell_type": "code",
   "execution_count": 5,
   "metadata": {},
   "outputs": [
    {
     "name": "stdout",
     "output_type": "stream",
     "text": [
      "1\n",
      "1\n",
      "2\n",
      "3\n",
      "5\n"
     ]
    }
   ],
   "source": [
    "a = [1, 1, 2, 3, 5, 8, 13, 21, 34, 55, 89]\n",
    "for i in a:\n",
    " if i <= 5:\n",
    "        print(i)"
   ]
  },
  {
   "cell_type": "code",
   "execution_count": null,
   "metadata": {},
   "outputs": [],
   "source": []
  }
 ],
 "metadata": {
  "kernelspec": {
   "display_name": "Python 3",
   "language": "python",
   "name": "python3"
  },
  "language_info": {
   "codemirror_mode": {
    "name": "ipython",
    "version": 3
   },
   "file_extension": ".py",
   "mimetype": "text/x-python",
   "name": "python",
   "nbconvert_exporter": "python",
   "pygments_lexer": "ipython3",
   "version": "3.7.4"
  }
 },
 "nbformat": 4,
 "nbformat_minor": 2
}
