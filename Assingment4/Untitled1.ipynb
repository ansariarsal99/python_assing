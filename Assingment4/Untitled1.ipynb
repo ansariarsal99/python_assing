{
 "cells": [
  {
   "cell_type": "code",
   "execution_count": null,
   "metadata": {},
   "outputs": [
    {
     "name": "stdout",
     "output_type": "stream",
     "text": [
      "22\n",
      "You Have 3 Chances to Guess the Correct Number\n",
      "==============================================\n",
      "Enter the number to Guess : 3\n",
      "You Have Taken :  1\n",
      "==============================================\n",
      "Your Guess is less than the correct Number\n"
     ]
    }
   ],
   "source": [
    "import random\n",
    "noofchancetaken = 0\n",
    "number = random.randint(1, 30)\n",
    "print(number)\n",
    "print(\"You Have 3 Chances to Guess the Correct Number\")\n",
    "print(\"==============================================\")\n",
    "while noofchancetaken < 3:\n",
    "    \n",
    "    guess = int(input(\"Enter the number to Guess : \"))\n",
    "    noofchancetaken = noofchancetaken + 1\n",
    "    print(\"You Have Taken : \", noofchancetaken)\n",
    "    print(\"==============================================\")\n",
    "    if(guess < number):\n",
    "        print(\"Your Guess is less than the correct Number\")\n",
    "    if(guess > number):\n",
    "        print(\"Your Guess is Greater than the correct Number \")\n",
    "    if guess==number:\n",
    "        print(\"Congratulation You Guess The Correct Number\")\n",
    "        break\n",
    "    if noofchancetaken == 3:\n",
    "        print(\"Your Chaces are over Better Luck Newxt Time\")"
   ]
  },
  {
   "cell_type": "code",
   "execution_count": null,
   "metadata": {},
   "outputs": [],
   "source": []
  },
  {
   "cell_type": "code",
   "execution_count": null,
   "metadata": {},
   "outputs": [],
   "source": []
  }
 ],
 "metadata": {
  "kernelspec": {
   "display_name": "Python 3",
   "language": "python",
   "name": "python3"
  },
  "language_info": {
   "codemirror_mode": {
    "name": "ipython",
    "version": 3
   },
   "file_extension": ".py",
   "mimetype": "text/x-python",
   "name": "python",
   "nbconvert_exporter": "python",
   "pygments_lexer": "ipython3",
   "version": "3.7.4"
  }
 },
 "nbformat": 4,
 "nbformat_minor": 2
}
