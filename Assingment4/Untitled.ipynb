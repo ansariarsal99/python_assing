{
 "cells": [
  {
   "cell_type": "code",
   "execution_count": 6,
   "metadata": {},
   "outputs": [
    {
     "name": "stdout",
     "output_type": "stream",
     "text": [
      "Enter your First Name: a\n",
      "Enter your First Name: a\n",
      "Enter your address: a\n",
      "===========================================\n",
      "{'first name': 'a', 'last name': 'a', 'address': 'a'}\n",
      "===========================================\n",
      "{'first name': 'a', 'last name': 'a', 'address': 'a', 'Qualificaion': 'Masters'}\n",
      "===========================================\n",
      "{'first name': 'a', 'last name': 'a', 'address': 'a', 'Qualificaion': 'high academic level '}\n",
      "===========================================\n",
      "{'first name': 'a', 'last name': 'a', 'address': 'a'}\n"
     ]
    }
   ],
   "source": [
    "firstname = input(\"Enter your First Name: \")\n",
    "lastname = input(\"Enter your First Name: \")\n",
    "address = input(\"Enter your address: \")\n",
    "personalinfo = {\"first name\": firstname, \"last name\": lastname, \"address\": address}\n",
    "print(\"===========================================\")\n",
    "print(personalinfo)\n",
    "personalinfo[\"Qualificaion\"] = \"Masters\"\n",
    "print(\"======================= Qualification Key Added ====================\")\n",
    "print(personalinfo)\n",
    "personalinfo[\"Qualificaion\"] = \"High Academic Level \"\n",
    "print(\"======================= High Academic Level ========================\")\n",
    "print(personalinfo)\n",
    "del personalinfo[\"Qualificaion\"]\n",
    "print(\"================== Qualificaion Deleted  ===========================\")\n",
    "print(personalinfo)"
   ]
  },
  {
   "cell_type": "code",
   "execution_count": 39,
   "metadata": {},
   "outputs": [
    {
     "ename": "SyntaxError",
     "evalue": "invalid syntax (<ipython-input-39-1392aa09dfcf>, line 6)",
     "output_type": "error",
     "traceback": [
      "\u001b[1;36m  File \u001b[1;32m\"<ipython-input-39-1392aa09dfcf>\"\u001b[1;36m, line \u001b[1;32m6\u001b[0m\n\u001b[1;33m    for ( i=0; i <= cities.length; i++):\u001b[0m\n\u001b[1;37m           ^\u001b[0m\n\u001b[1;31mSyntaxError\u001b[0m\u001b[1;31m:\u001b[0m invalid syntax\n"
     ]
    }
   ],
   "source": [
    "cities = [ \n",
    "    { \"CitiName\": \"Karachi\", \"Country\":\"Pakistan\", \"Population\": \"30 Million\", \"Fact\": \"Citi of Lights.\", },\n",
    "    { \"CitiName\": \"London\", \"Country\":\"England\", \"Population\": \"14 Million\", \"Fact\": \"Citi of Towers.\" },\n",
    "    { \"CitiName\": \"New York\", \"Country\":\"America\", \"Population\": \"19 Million\", \"Fact\": \"Land of New Opportunities.\" }, \n",
    "         ]\n",
    "for ( i=0; i <= cities.length; i++):\n",
    "print(\"City Name :\", cities[i])\n"
   ]
  },
  {
   "cell_type": "code",
   "execution_count": 23,
   "metadata": {},
   "outputs": [
    {
     "name": "stdout",
     "output_type": "stream",
     "text": [
      "Enter Your Age : 14\n",
      "Ticket Cost is $15\n"
     ]
    }
   ],
   "source": [
    "age = int(input(\"Enter Your Age : \"))\n",
    "if(age < 3):\n",
    "    print(\"Ticket is free of cost\")\n",
    "elif(age<= 12 and age>=3):\n",
    "    print(\"Ticket Cost is $10\")\n",
    "elif( age > 13):\n",
    "    print(\"Ticket Cost is $15\")\n",
    "else:\n",
    "    print(\"Enter Correct Age\")"
   ]
  },
  {
   "cell_type": "code",
   "execution_count": 38,
   "metadata": {},
   "outputs": [
    {
     "name": "stdout",
     "output_type": "stream",
     "text": [
      "One of my favorite books is Alice in Wonderland Writte by :  willams\n"
     ]
    }
   ],
   "source": [
    "def book(author):\n",
    "    message = \"One of my favorite books is Alice in Wonderland Writte by : \" + \" \" + author\n",
    "    print(message)\n",
    "    \n",
    "book(\"willams\")\n"
   ]
  },
  {
   "cell_type": "code",
   "execution_count": 46,
   "metadata": {},
   "outputs": [
    {
     "ename": "SyntaxError",
     "evalue": "invalid syntax (<ipython-input-46-572eb54c659a>, line 3)",
     "output_type": "error",
     "traceback": [
      "\u001b[1;36m  File \u001b[1;32m\"<ipython-input-46-572eb54c659a>\"\u001b[1;36m, line \u001b[1;32m3\u001b[0m\n\u001b[1;33m    ran = random.randint(0, 30):\u001b[0m\n\u001b[1;37m      ^\u001b[0m\n\u001b[1;31mSyntaxError\u001b[0m\u001b[1;31m:\u001b[0m invalid syntax\n"
     ]
    }
   ],
   "source": [
    "import random\n",
    "Userkey = int(input(\"Enter your No to Guess The Correct Number : \")\n",
    "ran = random.randint(0, 30):              \n",
    "if(userkey == ran):\n",
    "        print(\"Congratulation You Guess The Right Number\")               \n",
    "\n",
    "\n",
    "              "
   ]
  },
  {
   "cell_type": "code",
   "execution_count": 54,
   "metadata": {},
   "outputs": [
    {
     "name": "stdout",
     "output_type": "stream",
     "text": [
      "1\n",
      "Enter the number to Guess : 4\n",
      "Your Guess is Greater than the correct Number \n",
      "Enter the number to Guess : 4\n",
      "Your Guess is Greater than the correct Number \n",
      "Enter the number to Guess : 2\n",
      "Your Guess is Greater than the correct Number \n"
     ]
    }
   ],
   "source": [
    "import random\n",
    "noofchancetaken = 0\n",
    "number = random.randint(1, 30)\n",
    "#print(number)\n",
    "while noofchancetaken < 3:\n",
    "    guess = int(input(\"Enter the number to Guess : \"))\n",
    "    noofchancetaken = noofchancetaken + 1\n",
    "    \n",
    "    if(guess < number):\n",
    "        print(\"Your Guess is less than the correct Number\")\n",
    "    if(guess > number):\n",
    "        print(\"Your Guess is Greater than the correct Number \")\n",
    "    if guess==number:\n",
    "        print(\"Congratulation You Guess The Correct Number\")\n",
    "        break\n",
    "        \n"
   ]
  },
  {
   "cell_type": "code",
   "execution_count": null,
   "metadata": {},
   "outputs": [],
   "source": []
  }
 ],
 "metadata": {
  "kernelspec": {
   "display_name": "Python 3",
   "language": "python",
   "name": "python3"
  },
  "language_info": {
   "codemirror_mode": {
    "name": "ipython",
    "version": 3
   },
   "file_extension": ".py",
   "mimetype": "text/x-python",
   "name": "python",
   "nbconvert_exporter": "python",
   "pygments_lexer": "ipython3",
   "version": "3.7.4"
  }
 },
 "nbformat": 4,
 "nbformat_minor": 2
}
