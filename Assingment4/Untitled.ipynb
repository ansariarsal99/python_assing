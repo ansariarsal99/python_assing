{
 "cells": [
  {
   "cell_type": "code",
   "execution_count": 6,
   "metadata": {},
   "outputs": [
    {
     "name": "stdout",
     "output_type": "stream",
     "text": [
      "Enter your First Name: a\n",
      "Enter your First Name: a\n",
      "Enter your address: a\n",
      "===========================================\n",
      "{'first name': 'a', 'last name': 'a', 'address': 'a'}\n",
      "===========================================\n",
      "{'first name': 'a', 'last name': 'a', 'address': 'a', 'Qualificaion': 'Masters'}\n",
      "===========================================\n",
      "{'first name': 'a', 'last name': 'a', 'address': 'a', 'Qualificaion': 'high academic level '}\n",
      "===========================================\n",
      "{'first name': 'a', 'last name': 'a', 'address': 'a'}\n"
     ]
    }
   ],
   "source": [
    "firstname = input(\"Enter your First Name: \")\n",
    "lastname = input(\"Enter your First Name: \")\n",
    "address = input(\"Enter your address: \")\n",
    "personalinfo = {\"first name\": firstname, \"last name\": lastname, \"address\": address}\n",
    "print(\"===========================================\")\n",
    "print(personalinfo)\n",
    "personalinfo[\"Qualificaion\"] = \"Masters\"\n",
    "print(\"======================= Qualification Key Added ====================\")\n",
    "print(personalinfo)\n",
    "personalinfo[\"Qualificaion\"] = \"High Academic Level \"\n",
    "print(\"======================= High Academic Level ========================\")\n",
    "print(personalinfo)\n",
    "del personalinfo[\"Qualificaion\"]\n",
    "print(\"================== Qualificaion Deleted  ===========================\")\n",
    "\n",
    "print(personalinfo)"
   ]
  },
  {
   "cell_type": "code",
   "execution_count": 10,
   "metadata": {},
   "outputs": [
    {
     "name": "stdout",
     "output_type": "stream",
     "text": [
      "\n",
      "Citi ID: 1\n",
      "CitiName: Karachi\n",
      "Country: Pakistan\n",
      "Population: 30 Million\n",
      "Fact: Citi of Lights.\n",
      "\n",
      "Citi ID: 2\n",
      "CitiName: London\n",
      "Country: England\n",
      "Population: 14 Million\n",
      "Fact: Citi of Towers.\n",
      "\n",
      "Citi ID: 3\n",
      "CitiName: New York\n",
      "Country: America\n",
      "Population: 19 Million\n",
      "Fact: Land of New Opportunities.\n"
     ]
    }
   ],
   "source": [
    "cities ={ \n",
    "   1: { \"CitiName\": \"Karachi\", \"Country\":\"Pakistan\", \"Population\": \"30 Million\", \"Fact\": \"Citi of Lights.\" },\n",
    "   2: { \"CitiName\": \"London\", \"Country\":\"England\", \"Population\": \"14 Million\", \"Fact\": \"Citi of Towers.\" },\n",
    "   3: { \"CitiName\": \"New York\", \"Country\":\"America\", \"Population\": \"19 Million\", \"Fact\": \"Land of New Opportunities.\" }, \n",
    "}\n",
    "#for ( i=0; i <= cities.length; i++):\n",
    "#print(\"City Name :\", cities[i])\n",
    "for citi_id, citi_info in cities.items():\n",
    "    print(\"\\nCiti ID:\", citi_id)\n",
    "    \n",
    "    for key in citi_info:\n",
    "        print(key + ':', citi_info[key])\n"
   ]
  },
  {
   "cell_type": "code",
   "execution_count": 23,
   "metadata": {},
   "outputs": [
    {
     "name": "stdout",
     "output_type": "stream",
     "text": [
      "Enter Your Age : 14\n",
      "Ticket Cost is $15\n"
     ]
    }
   ],
   "source": [
    "age = int(input(\"Enter Your Age : \"))\n",
    "if(age < 3):\n",
    "    print(\"Ticket is free of cost\")\n",
    "elif(age<= 12 and age>=3):\n",
    "    print(\"Ticket Cost is $10\")\n",
    "elif( age > 13):\n",
    "    print(\"Ticket Cost is $15\")\n",
    "else:\n",
    "    print(\"Enter Correct Age\")"
   ]
  },
  {
   "cell_type": "code",
   "execution_count": 38,
   "metadata": {},
   "outputs": [
    {
     "name": "stdout",
     "output_type": "stream",
     "text": [
      "One of my favorite books is Alice in Wonderland Writte by :  willams\n"
     ]
    }
   ],
   "source": [
    "def book(author):\n",
    "    message = \"One of my favorite books is Alice in Wonderland Writte by : \" + \" \" + author\n",
    "    print(message)\n",
    "    \n",
    "book(\"willams\")\n"
   ]
  },
  {
   "cell_type": "code",
   "execution_count": null,
   "metadata": {},
   "outputs": [],
   "source": [
    "import random\n",
    "noofchancetaken = 0\n",
    "number = random.randint(1, 30)\n",
    "print(number)\n",
    "print(\"You Have 3 Chances to Guess the Correct Number\")\n",
    "print(\"==============================================\")\n",
    "while noofchancetaken < 3:\n",
    "    \n",
    "    guess = int(input(\"Enter the number to Guess : \"))\n",
    "    noofchancetaken = noofchancetaken + 1\n",
    "    print(\"You Have Taken : \", noofchancetaken)\n",
    "    print(\"==============================================\")\n",
    "    if(guess < number):\n",
    "        print(\"Your Guess is less than the correct Number\")\n",
    "    if(guess > number):\n",
    "        print(\"Your Guess is Greater than the correct Number \")\n",
    "    if guess==number:\n",
    "        print(\"Congratulation You Guess The Correct Number\")\n",
    "        break\n",
    "    if noofchancetaken == 3:\n",
    "        print(\"Your Chaces are over Better Luck Newxt Time\")\n",
    "        \n"
   ]
  },
  {
   "cell_type": "code",
   "execution_count": null,
   "metadata": {},
   "outputs": [],
   "source": []
  }
 ],
 "metadata": {
  "kernelspec": {
   "display_name": "Python 3",
   "language": "python",
   "name": "python3"
  },
  "language_info": {
   "codemirror_mode": {
    "name": "ipython",
    "version": 3
   },
   "file_extension": ".py",
   "mimetype": "text/x-python",
   "name": "python",
   "nbconvert_exporter": "python",
   "pygments_lexer": "ipython3",
   "version": "3.7.4"
  }
 },
 "nbformat": 4,
 "nbformat_minor": 2
}
