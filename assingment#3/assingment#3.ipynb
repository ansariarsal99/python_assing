{
 "cells": [
  {
   "cell_type": "code",
   "execution_count": 15,
   "metadata": {},
   "outputs": [
    {
     "name": "stdout",
     "output_type": "stream",
     "text": [
      "Enter first Number : 1\n",
      "Enter Second Number : 2\n",
      "Enter Desired Operator : g\n",
      "Enter the Correct operator from '+','-','*','/','^' \n"
     ]
    }
   ],
   "source": [
    "first = int(input(\"Enter first Number : \"))\n",
    "second = int(input(\"Enter Second Number : \"))\n",
    "operator = input(\"Enter Desired Operator : \")\n",
    "\n",
    "if operator == \"+\":\n",
    "    result = first + second\n",
    "    print (\"The Addition of two number is : \", result)\n",
    "elif operator == \"-\":\n",
    "    result = first - second\n",
    "    print (\"The Subtraction of two number is : \", result)\n",
    "elif operator == \"*\":\n",
    "    result = first * second\n",
    "    print (\"The Multiplication of two number is : \", result)\n",
    "elif operator == \"/\":\n",
    "    result = first / second\n",
    "    print (\"The DIVISION of two number is : \", result)\n",
    "elif operator == \"^\":\n",
    "    result = first ^ second\n",
    "    print (\"The POWER of two number is : \", result)    \n",
    "else:\n",
    "    print(\"Enter the Correct operator from '+','-','*','/','^'  and Try Again\")"
   ]
  },
  {
   "cell_type": "code",
   "execution_count": 50,
   "metadata": {},
   "outputs": [
    {
     "name": "stdout",
     "output_type": "stream",
     "text": [
      "5\n",
      "7\n",
      "42\n",
      "99\n"
     ]
    }
   ],
   "source": [
    "hello = [\"arsalan\", 5, \"tiger\", 7, \"panda\", 42, \"lahore\", 99 ]\n",
    "for each_value in hello:\n",
    "    if type(each_value) == int:\n",
    "        print (each_value)\n",
    "    #abc = each.value.isnumeric()\n",
    "    #print(abc)\n",
    "    #print(each_value)\n",
    "#if abc == number "
   ]
  },
  {
   "cell_type": "code",
   "execution_count": 22,
   "metadata": {},
   "outputs": [
    {
     "name": "stdout",
     "output_type": "stream",
     "text": [
      "{'first_name': 'arsalan', 'last_name': 'ansari', 'address': 'karachi', 'city': 'karachi'}\n"
     ]
    }
   ],
   "source": [
    "dict1 ={\"first_name\": \"arsalan\", \"last_name\": \"ansari\", \"address\": \"karachi\"}\n",
    "#result = dict1[\"address\"] = \"Home_address\"\n",
    "#print(result)\n",
    "dict1[\"city\"]= \"karachi\"\n",
    "print(dict1)\n"
   ]
  },
  {
   "cell_type": "code",
   "execution_count": 41,
   "metadata": {},
   "outputs": [
    {
     "name": "stdout",
     "output_type": "stream",
     "text": [
      "Sum of Dictionary No is : 21\n"
     ]
    }
   ],
   "source": [
    "abc = {\"first\":1 ,\"Second\": 2, \"Third\": 3, \"Fourth\": 4, \"Fifth\": 5, \"Sixth\": 6}\n",
    "#for each_number in abc.values():\n",
    "results = sum(abc.values())\n",
    "print(\"Sum of Dictionary No is :\", results)\n",
    "\n"
   ]
  },
  {
   "cell_type": "code",
   "execution_count": 23,
   "metadata": {},
   "outputs": [
    {
     "name": "stdout",
     "output_type": "stream",
     "text": [
      "[2, 4, 10, 20, 5]\n"
     ]
    }
   ],
   "source": [
    "list_1 = [2, 4, 10, 20, 5, 2, 20, 4]\n",
    "def Remove(list_1): \n",
    "    final_list = [] \n",
    "    for num in list_1: \n",
    "        if num not in final_list: \n",
    "            final_list.append(num) \n",
    "    return final_list \n",
    "print(Remove(list_1))"
   ]
  },
  {
   "cell_type": "code",
   "execution_count": 16,
   "metadata": {},
   "outputs": [
    {
     "name": "stdout",
     "output_type": "stream",
     "text": [
      "enter the no you want to add in list : 4\n",
      "Number aleady Exist\n"
     ]
    }
   ],
   "source": [
    "check_num = int(input(\"enter the no you want to add in list : \"))\n",
    "first_list =[1, 2, 3, 4, 5, 6, 7, 8, 9, 10]\n",
    "if check_num in first_list:\n",
    "    print(\"Number aleady Exist\")\n",
    "else:\n",
    "    #first_list.add(check_num)\n",
    "    first_list.append(check_num)\n",
    "    print(\"Number added in the list\", first_list)"
   ]
  },
  {
   "cell_type": "code",
   "execution_count": 108,
   "metadata": {},
   "outputs": [
    {
     "name": "stdout",
     "output_type": "stream",
     "text": [
      "[2, 4, 10, 20, 5]\n"
     ]
    }
   ],
   "source": [
    "abc = ['Hello', 'Ok', 'is', 'Ok', 'test', 'this', 'is', 'a', 'test']\n",
    "bcd =[]\n",
    "for val_in in abc:\n",
    "    if val_in not in bcd:\n",
    "        bcd.append(val_in)\n",
    "        print(\"Duplicate values are : \", wxz)"
   ]
  },
  {
   "cell_type": "code",
   "execution_count": null,
   "metadata": {},
   "outputs": [],
   "source": []
  }
 ],
 "metadata": {
  "kernelspec": {
   "display_name": "Python 3",
   "language": "python",
   "name": "python3"
  }
 },
 "nbformat": 4,
 "nbformat_minor": 2
}
