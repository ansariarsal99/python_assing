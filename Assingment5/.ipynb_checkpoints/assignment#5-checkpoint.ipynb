{
 "cells": [
  {
   "cell_type": "code",
   "execution_count": 32,
   "metadata": {},
   "outputs": [
    {
     "name": "stdout",
     "output_type": "stream",
     "text": [
      "Enter the Number : 4\n",
      "factorial of 4 is  24\n"
     ]
    }
   ],
   "source": [
    "import sys\n",
    "\n",
    "def Factorial(n): \n",
    "    result = 1\n",
    "    for i in range (1,n+1):\n",
    "        result = result * i\n",
    "    print (\"factorial of\", n ,\"is \",result)\n",
    "    \n",
    "\n",
    "\n",
    "num = int(input(\"Enter the Number : \"))\n",
    "Factorial(num)\n"
   ]
  },
  {
   "cell_type": "code",
   "execution_count": 33,
   "metadata": {},
   "outputs": [
    {
     "name": "stdout",
     "output_type": "stream",
     "text": [
      "Enter Any String:aRSAaAAN\n",
      "The number of lowercase characters is: 7\n",
      "The number of uppercase characters is: 6\n"
     ]
    }
   ],
   "source": [
    "string= str(input(\"Enter Any String:\"))\n",
    "\n",
    "def uplo(string):\n",
    "    \n",
    "    \n",
    " count1=0\n",
    "count2=0\n",
    "for i in string:\n",
    "      if(i.islower()):\n",
    "            count1=count1+1\n",
    "      elif(i.isupper()):\n",
    "            count2=count2+1\n",
    "print(\"The number of lowercase characters is:\", count1)\n",
    "print(\"The number of uppercase characters is:\",count2)\n",
    "\n",
    "\n",
    "\n",
    "\n",
    "\n",
    "uplo(string)\n"
   ]
  },
  {
   "cell_type": "code",
   "execution_count": 34,
   "metadata": {},
   "outputs": [
    {
     "name": "stdout",
     "output_type": "stream",
     "text": [
      "[2, 4, 6, 8]\n"
     ]
    }
   ],
   "source": [
    "def is_even_num(arr):\n",
    "    enum = []\n",
    "    for n in arr:\n",
    "        if n % 2 == 0:\n",
    "            enum.append(n)\n",
    "    print(enum)\n",
    "\n",
    "arr = [1, 2,3, 4, 5, 6, 7, 8, 9, 15, 19]\n",
    "is_even_num(arr)\n"
   ]
  },
  {
   "cell_type": "code",
   "execution_count": 35,
   "metadata": {},
   "outputs": [
    {
     "name": "stdout",
     "output_type": "stream",
     "text": [
      "Enter the string which you want to check :MADAM\n",
      "Given string is palindrome\n"
     ]
    }
   ],
   "source": [
    "def isPalindrome(string):\n",
    "    left_pos = 0\n",
    "    right_pos = len(string) - 1\n",
    "    \n",
    "    while right_pos >= left_pos:\n",
    "        if not string[left_pos] == string[right_pos]:\n",
    "            \n",
    "            print(\"Given string is not palindrome\")\n",
    "        left_pos += 1\n",
    "        right_pos -= 1\n",
    "    \n",
    "    else:\n",
    "     print(\"Given string is palindrome\")\n",
    "\n",
    "string = input(\"Enter the string which you want to check :\")\n",
    "isPalindrome(string)"
   ]
  },
  {
   "cell_type": "code",
   "execution_count": 36,
   "metadata": {},
   "outputs": [
    {
     "name": "stdout",
     "output_type": "stream",
     "text": [
      "Enter a number: 13\n",
      "13 is a prime number\n"
     ]
    }
   ],
   "source": [
    "def prime(num):\n",
    " if num > 1:\n",
    "      \n",
    "     \n",
    "   for i in range(2, num//2): \n",
    "         \n",
    "  \n",
    "       if (num % i) == 0: \n",
    "           print(num, \"is not a prime number\") \n",
    "           break\n",
    "   else: \n",
    "       print(num, \"is a prime number\") \n",
    "  \n",
    " else: \n",
    "   print(num, \"is not a prime number\")\n",
    "\n",
    "num = int(input(\"Enter a number: \"))\n",
    "prime(num)"
   ]
  },
  {
   "cell_type": "code",
   "execution_count": null,
   "metadata": {},
   "outputs": [],
   "source": []
  }
 ],
 "metadata": {
  "kernelspec": {
   "display_name": "Python 3",
   "language": "python",
   "name": "python3"
  },
  "language_info": {
   "codemirror_mode": {
    "name": "ipython",
    "version": 3
   },
   "file_extension": ".py",
   "mimetype": "text/x-python",
   "name": "python",
   "nbconvert_exporter": "python",
   "pygments_lexer": "ipython3",
   "version": "3.7.4"
  }
 },
 "nbformat": 4,
 "nbformat_minor": 2
}
