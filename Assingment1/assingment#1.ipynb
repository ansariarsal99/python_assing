{
 "cells": [
  {
   "cell_type": "code",
   "execution_count": 2,
   "metadata": {},
   "outputs": [
    {
     "name": "stdout",
     "output_type": "stream",
     "text": [
      "hello\n"
     ]
    }
   ],
   "source": [
    "print(\"hello\")\n"
   ]
  },
  {
   "cell_type": "code",
   "execution_count": 5,
   "metadata": {},
   "outputs": [
    {
     "name": "stdout",
     "output_type": "stream",
     "text": [
      "Write your name :arsal\n",
      "arsal\n"
     ]
    }
   ],
   "source": [
    "admin=input('Write your name :')\n",
    "print(admin)\n"
   ]
  },
  {
   "cell_type": "code",
   "execution_count": 23,
   "metadata": {
    "scrolled": true
   },
   "outputs": [
    {
     "name": "stdout",
     "output_type": "stream",
     "text": [
      "Twinkle, twinkle, littel star,\n",
      "       How I wonder what you are! \n",
      "             Up above the world so high\n",
      "             Like a diamond in the sky. \n",
      "Twinkle, twinkle, littel star,\n",
      "       How I wonder what you are! \n"
     ]
    }
   ],
   "source": [
    "Spaces=\"       \"\n",
    "Double_spaces=\"            \"\n",
    "First_line = \"Twinkle, twinkle, littel star,\"\n",
    "print(First_line)\n",
    "Second_line= \"How I wonder what you are! \"\n",
    "print(Spaces + Second_line)\n",
    "Third_line= \" Up above the world so high\"\n",
    "print(Double_spaces + Third_line)\n",
    "Fourth_line= \" Like a diamond in the sky. \"\n",
    "print(Double_spaces + Fourth_line)\n",
    "print(First_line)\n",
    "print(Spaces + Second_line)\n",
    "#print(\"Twinkle, Twinkle, Littel Star,\")\n",
    "#print(\"How I wonder what you are !\")"
   ]
  },
  {
   "cell_type": "code",
   "execution_count": 35,
   "metadata": {},
   "outputs": [
    {
     "name": "stdout",
     "output_type": "stream",
     "text": [
      "3.7.4\n"
     ]
    }
   ],
   "source": [
    "from platform import python_version\n",
    "print(python_version())"
   ]
  },
  {
   "cell_type": "code",
   "execution_count": 37,
   "metadata": {},
   "outputs": [
    {
     "name": "stdout",
     "output_type": "stream",
     "text": [
      "The Current date and time is: \n",
      "2019-11-19         00:13:33\n"
     ]
    }
   ],
   "source": [
    "import datetime\n",
    "now = datetime.datetime.now()\n",
    "print (\"The Current date and time is: \")\n",
    "print (now.strftime(\"%Y-%m-%d    \" +  \"     %H:%M:%S\"))"
   ]
  },
  {
   "cell_type": "code",
   "execution_count": 39,
   "metadata": {},
   "outputs": [
    {
     "name": "stdout",
     "output_type": "stream",
     "text": [
      "Enter the radius of Circle2\n",
      "Area of Circle is :  12.564\n"
     ]
    }
   ],
   "source": [
    "Radius = int(input(\"Enter the radius of Circle\"))\n",
    "Area = 3.141 * Radius * Radius\n",
    "print(\"Area of Circle is : \", Area)"
   ]
  },
  {
   "cell_type": "code",
   "execution_count": 43,
   "metadata": {},
   "outputs": [
    {
     "name": "stdout",
     "output_type": "stream",
     "text": [
      "Enter Your First Name : abc\n",
      "Enter Your Second Name : xyz\n",
      "Full name in Reverse Order xyz abc\n"
     ]
    }
   ],
   "source": [
    "First_name = input(\"Enter Your First Name : \")\n",
    "Second_name = input(\"Enter Your Second Name : \")\n",
    "\n",
    "Full_Name = Second_name +\" \"+ First_name\n",
    "print(\"Full name in Reverse Order\", Full_Name)"
   ]
  },
  {
   "cell_type": "code",
   "execution_count": 45,
   "metadata": {},
   "outputs": [
    {
     "name": "stdout",
     "output_type": "stream",
     "text": [
      "Enter Your First Number : 1\n",
      "Enter Your Second Number : 2\n",
      "Addtion of two number is 3\n"
     ]
    }
   ],
   "source": [
    "First = int(input(\"Enter Your First Number : \"))\n",
    "Second = int(input(\"Enter Your Second Number : \"))\n",
    "\n",
    "result = First + Second\n",
    "print(\"Addtion of two number is\", result)"
   ]
  },
  {
   "cell_type": "code",
   "execution_count": null,
   "metadata": {},
   "outputs": [],
   "source": []
  }
 ],
 "metadata": {
  "kernelspec": {
   "display_name": "Python 3",
   "language": "python",
   "name": "python3"
  },
  "language_info": {
   "codemirror_mode": {
    "name": "ipython",
    "version": 3
   },
   "file_extension": ".py",
   "mimetype": "text/x-python",
   "name": "python",
   "nbconvert_exporter": "python",
   "pygments_lexer": "ipython3",
   "version": "3.7.4"
  }
 },
 "nbformat": 4,
 "nbformat_minor": 2
}
